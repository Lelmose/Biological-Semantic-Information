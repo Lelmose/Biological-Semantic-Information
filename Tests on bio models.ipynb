{
 "cells": [
  {
   "cell_type": "markdown",
   "metadata": {},
   "source": [
    "# Test different biological models to apply semantic information search :\n",
    "\n"
   ]
  },
  {
   "cell_type": "code",
   "execution_count": 17,
   "metadata": {},
   "outputs": [],
   "source": [
    "import matplotlib.pyplot as plt\n",
    "from sbmltoodepy import ParseAndCreateModel\n",
    "from Models.ODEs.MODEL1012090002_url import SBMLmodel"
   ]
  },
  {
   "cell_type": "code",
   "execution_count": 13,
   "metadata": {},
   "outputs": [],
   "source": [
    "sbml_model = ParseAndCreateModel(\"./Models/ODEs/MODEL1012090002_url.xml\", jsonFilePath = None, outputFilePath = None, className = \"SBMLmodel\")\n",
    "deltaT = 0.1\n",
    "model_instance = SBMLmodel()\n",
    "model_instance.RunSimulation(deltaT, absoluteTolerance = 1e-12, relativeTolerance = 1e-6)"
   ]
  },
  {
   "cell_type": "code",
   "execution_count": 21,
   "metadata": {},
   "outputs": [
    {
     "name": "stdout",
     "output_type": "stream",
     "text": [
      "dict_keys(['parameter_1', 'parameter_2', 'parameter_3', 'parameter_4', 'parameter_5', 'parameter_6', 'parameter_7', 'parameter_8', 'parameter_9', 'parameter_10', 'parameter_11', 'parameter_12', 'parameter_13', 'parameter_14', 'parameter_15', 'parameter_16', 'parameter_17', 'parameter_18', 'parameter_19', 'parameter_20', 'parameter_21', 'parameter_22', 'parameter_23', 'parameter_24', 'parameter_25', 'parameter_26', 'parameter_27', 'parameter_28', 'parameter_29'])\n"
     ]
    }
   ],
   "source": [
    "print(model_instance.p.keys())"
   ]
  }
 ],
 "metadata": {
  "kernelspec": {
   "display_name": "semantic_info_bio",
   "language": "python",
   "name": "python3"
  },
  "language_info": {
   "codemirror_mode": {
    "name": "ipython",
    "version": 3
   },
   "file_extension": ".py",
   "mimetype": "text/x-python",
   "name": "python",
   "nbconvert_exporter": "python",
   "pygments_lexer": "ipython3",
   "version": "3.11.11"
  }
 },
 "nbformat": 4,
 "nbformat_minor": 2
}
